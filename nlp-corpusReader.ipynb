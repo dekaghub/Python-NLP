{
 "cells": [
  {
   "cell_type": "code",
   "execution_count": 2,
   "metadata": {},
   "outputs": [],
   "source": [
    "from nltk.corpus.reader.plaintext import CategorizedPlaintextCorpusReader\n",
    "# other readers: Plaintext, Tagged, BracketParse, Twitter, etc."
   ]
  },
  {
   "cell_type": "code",
   "execution_count": 3,
   "metadata": {},
   "outputs": [],
   "source": [
    "# general format\n",
    "DOC_PATTERN = r'(?!\\.)[\\w\\s]+/[\\w\\s\\d-]+\\.txt'\n",
    "CAT_PATTERN = r'([\\w_\\s]+).*'\n",
    "root = \"./corpus-test/\"\n",
    "\n",
    "corpus = CategorizedPlaintextCorpusReader(root, DOC_PATTERN, cat_pattern=CAT_PATTERN)"
   ]
  },
  {
   "cell_type": "code",
   "execution_count": 4,
   "metadata": {},
   "outputs": [
    {
     "output_type": "execute_result",
     "data": {
      "text/plain": "['testA', 'testB']"
     },
     "metadata": {},
     "execution_count": 4
    }
   ],
   "source": [
    "corpus.categories()"
   ]
  },
  {
   "cell_type": "code",
   "execution_count": 5,
   "metadata": {},
   "outputs": [
    {
     "output_type": "execute_result",
     "data": {
      "text/plain": "['testA/fileA.txt', 'testB/testB.txt']"
     },
     "metadata": {},
     "execution_count": 5
    }
   ],
   "source": [
    "corpus.fileids()"
   ]
  }
 ],
 "metadata": {
  "language_info": {
   "codemirror_mode": {
    "name": "ipython",
    "version": 3
   },
   "file_extension": ".py",
   "mimetype": "text/x-python",
   "name": "python",
   "nbconvert_exporter": "python",
   "pygments_lexer": "ipython3",
   "version": "3.8.0-final"
  },
  "orig_nbformat": 2,
  "kernelspec": {
   "name": "python38064bitb642425e1b6a4faf9e48b1b3a5cf5965",
   "display_name": "Python 3.8.0 64-bit"
  }
 },
 "nbformat": 4,
 "nbformat_minor": 2
}