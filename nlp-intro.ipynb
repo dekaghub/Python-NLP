{
 "cells": [
  {
   "cell_type": "code",
   "execution_count": 17,
   "metadata": {},
   "outputs": [],
   "source": [
    "MALE = 'male'\n",
    "FEMALE = 'female'\n",
    "UNKNOWN = 'unknown'\n",
    "BOTH = 'both'\n",
    "MALE_WORDS = set([\n",
    "'guy','spokesman','chairman',\"men's\",'men','him',\"he's\",'his',\n",
    "'boy','boyfriend','boyfriends','boys','brother','brothers','dad',\n",
    "'dads','dude','father','fathers','fiance','gentleman','gentlemen',\n",
    "'god','grandfather','grandpa','grandson','groom','he','himself',\n",
    "'husband','husbands','king','male','man','mr','nephew','nephews',\n",
    "'priest','prince','son','sons','uncle','uncles','waiter','widower',\n",
    "'widowers'\n",
    "])\n",
    "\n",
    "FEMALE_WORDS = set([\n",
    "'heroine','spokeswoman','chairwoman',\"women's\",'actress','women',\n",
    "\"she's\",'her','aunt','aunts','bride','daughter','daughters','female',\n",
    "'fiancee','girl','girlfriend','girlfriends','girls','goddess',\n",
    "'granddaughter','grandma','grandmother','herself','ladies','lady',\n",
    "'lady','mom','moms','mother','mothers','mrs','ms','niece','nieces',\n",
    "'priestess','princess','queens','she','sister','sisters','waitress',\n",
    "'widow','widows','wife','wives','woman'\n",
    "])"
   ]
  },
  {
   "cell_type": "code",
   "execution_count": 18,
   "metadata": {},
   "outputs": [],
   "source": [
    "def genderize(words):\n",
    "    \n",
    "    mwlen = len(MALE_WORDS.intersection(words))\n",
    "    fwlen = len(FEMALE_WORDS.intersection(words))\n",
    "\n",
    "    if mwlen > 0 and fwlen == 0:\n",
    "        return MALE\n",
    "    elif mwlen == 0 and fwlen > 0:\n",
    "        return FEMALE\n",
    "    elif mwlen > 0 and fwlen > 0:\n",
    "        return BOTH\n",
    "    else:\n",
    "        return UNKNOWN"
   ]
  },
  {
   "cell_type": "code",
   "execution_count": 19,
   "metadata": {},
   "outputs": [],
   "source": [
    "from collections import Counter\n",
    "\n",
    "def count_gender(sentences):\n",
    "\n",
    "    sents = Counter()\n",
    "    words = Counter()\n",
    "    \n",
    "    for sentence in sentences:\n",
    "        gender = genderize(sentence)\n",
    "        sents[gender] += 1\n",
    "        words[gender] += len(sentence)\n",
    "\n",
    "    return sents, words"
   ]
  },
  {
   "cell_type": "code",
   "execution_count": 40,
   "metadata": {},
   "outputs": [
    {
     "output_type": "stream",
     "name": "stderr",
     "text": "[nltk_data] Downloading package punkt to\n[nltk_data]     C:\\Users\\Deka\\AppData\\Roaming\\nltk_data...\n[nltk_data]   Package punkt is already up-to-date!\n"
    }
   ],
   "source": [
    "import nltk\n",
    "nltk.download('punkt')\n",
    "\n",
    "def parse_gender(text):\n",
    "\n",
    "    sentences = [\n",
    "        [word.lower() for word in nltk.word_tokenize(sentence)]\n",
    "        for sentence in nltk.sent_tokenize(text)\n",
    "    ]\n",
    "\n",
    "    sents, words = count_gender(sentences)\n",
    "    total = sum(words.values())\n",
    "\n",
    "    for gender, count in words.items():\n",
    "        pcent = (count/total)*100\n",
    "        nsents = sents[gender]\n",
    "\n",
    "        print(\"{:.2f}% {} ({} sentences)\".format(pcent, gender, nsents))"
   ]
  },
  {
   "cell_type": "code",
   "execution_count": 21,
   "metadata": {},
   "outputs": [],
   "source": [
    "t = \"\"\"\n",
    "Braaten, unsurprisingly, grew up as a music fiend, surrounded by records at Twist & Shout, a Denver shop owned by a friend’s family. His formative years were spent begging the store’s employees to borrow cassettes so he could dub copies for himself, pleas that became unnecessary when he eventually got hired to work there, too. “The folks there would turn us on to crazy stuff,” recalls Braaten. “We were tween metalheads, really into Metallica, Guns N’ Roses, and a lot of other stuff that is much more lame. I remember one day they suggested the self-titled Naked City record. It totally blew my mind—What is this? Thrash-jazz? It opened me up to all kinds of stuff at a younger age.”\n",
    "\n",
    "An eventual move to New York City led to a job at the esteemed Academy Records in Williamsburg, Brooklyn, the basement of which was home to both the beloved Norton Records, which specializes in garage and rockabilly releases, and Braaten’s small merch company dedicated to horror-film merch. There, Braaten came up with an idea for a label as a means to release reissues in the vein of the highly influential Killed by Death series of punk and hardcore obscurities. But, in 2007, when his friends in the post-punk band The Hunt were looking for a home for their “1000 Nights” 7”, he was more than willing to switch his plans up. “I thought to myself, I bet I know enough people to sell this record. I got a website, too! Took about five years to sell them,” chuckles Braaten.\n",
    "\"\"\""
   ]
  },
  {
   "cell_type": "code",
   "execution_count": 41,
   "metadata": {},
   "outputs": [
    {
     "output_type": "stream",
     "name": "stdout",
     "text": "75.40% unknown (11 sentences)\n24.60% male (2 sentences)\n"
    }
   ],
   "source": [
    "parse_gender(t)"
   ]
  }
 ],
 "metadata": {
  "language_info": {
   "codemirror_mode": {
    "name": "ipython",
    "version": 3
   },
   "file_extension": ".py",
   "mimetype": "text/x-python",
   "name": "python",
   "nbconvert_exporter": "python",
   "pygments_lexer": "ipython3",
   "version": "3.8.0-final"
  },
  "orig_nbformat": 2,
  "kernelspec": {
   "name": "python38064bitb642425e1b6a4faf9e48b1b3a5cf5965",
   "display_name": "Python 3.8.0 64-bit"
  }
 },
 "nbformat": 4,
 "nbformat_minor": 2
}